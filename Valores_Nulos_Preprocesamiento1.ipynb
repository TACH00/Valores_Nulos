{
  "nbformat": 4,
  "nbformat_minor": 0,
  "metadata": {
    "colab": {
      "provenance": [],
      "collapsed_sections": [],
      "authorship_tag": "ABX9TyPH259y7O10H/+Jcyc8kwzN",
      "include_colab_link": true
    },
    "kernelspec": {
      "name": "python3",
      "display_name": "Python 3"
    },
    "language_info": {
      "name": "python"
    }
  },
  "cells": [
    {
      "cell_type": "markdown",
      "metadata": {
        "id": "view-in-github",
        "colab_type": "text"
      },
      "source": [
        "<a href=\"https://colab.research.google.com/github/TACH00/Valores_Nulos/blob/main/Valores_Nulos_Preprocesamiento1.ipynb\" target=\"_parent\"><img src=\"https://colab.research.google.com/assets/colab-badge.svg\" alt=\"Open In Colab\"/></a>"
      ]
    },
    {
      "cell_type": "code",
      "execution_count": 31,
      "metadata": {
        "id": "BPdZkki__uhh"
      },
      "outputs": [],
      "source": [
        "#Importamos librerias requeridas\n",
        "import pandas as pd\n",
        "import numpy as np\n",
        "import matplotlib.pyplot as plt"
      ]
    },
    {
      "cell_type": "code",
      "source": [
        "#Cargar archivo csv desde equipo sin indice\n",
        "from google.colab import files\n",
        "files.upload()"
      ],
      "metadata": {
        "id": "H9hBVUf7__I1"
      },
      "execution_count": null,
      "outputs": []
    },
    {
      "cell_type": "code",
      "source": [
        "#Convertir en Dataframe\n",
        "df=pd.read_csv('Ventas_totales.csv')\n",
        "df.head()"
      ],
      "metadata": {
        "id": "zqdNDE8VAaAw"
      },
      "execution_count": null,
      "outputs": []
    },
    {
      "cell_type": "code",
      "source": [
        "#Realizamos una copia del dataframe\n",
        "df1=df.copy()"
      ],
      "metadata": {
        "id": "mX8CFp7oA78S"
      },
      "execution_count": 7,
      "outputs": []
    },
    {
      "cell_type": "code",
      "source": [
        "df1.info()"
      ],
      "metadata": {
        "id": "n8qRUq8i_WOI"
      },
      "execution_count": null,
      "outputs": []
    },
    {
      "cell_type": "code",
      "source": [
        "df1[\"salon_ventas\"]=df1[\"salon_ventas\"].fillna(round(df[\"salon_ventas\"].mean(),2))\n",
        "# Con esta instrucción calculamos el promedio y lo usamos para reemplazar los valores nulos en la columna de \"salon_ventas\""
      ],
      "metadata": {
        "id": "LqIhNWQEAw97"
      },
      "execution_count": 24,
      "outputs": []
    },
    {
      "cell_type": "code",
      "source": [
        "df1[\"tarjetas_debito\"]=df1[\"tarjetas_debito\"].fillna(round(df[\"tarjetas_debito\"].median(),3))\n",
        "# Con esta instrucción calculamos parecido al promedio pero en su lugar la mediana e igual la usamos para reemplazar en la columna los valores vacios o nulos"
      ],
      "metadata": {
        "id": "S2s66CmIEUUE"
      },
      "execution_count": 28,
      "outputs": []
    },
    {
      "cell_type": "code",
      "source": [
        "df1[\"tarjetas_credito\"]=df1[\"tarjetas_credito\"].fillna(8500000)\n",
        "# Esta instrucción nos permite reemplazar los valores en este caso con el valor indicado, que se obtuvó de manera imprecisa al analizar los valores rápidamente"
      ],
      "metadata": {
        "id": "Ry4wjrxtJFun"
      },
      "execution_count": 40,
      "outputs": []
    },
    {
      "cell_type": "code",
      "source": [
        "df1[\"otros_medios\"]=df1[\"otros_medios\"].fillna(method=\"ffill\")\n",
        "# Gracias a esta instrucción podemos recorrer los valores hacia adelante para llenar los nulos, es decir cuando hay un valor nulo toma el valor anterior"
      ],
      "metadata": {
        "id": "zHtg7NI8QeQK"
      },
      "execution_count": 42,
      "outputs": []
    },
    {
      "cell_type": "code",
      "source": [
        "df1[\"subtotal_ventas_alimentos_bebidas\"]=df1[\"subtotal_ventas_alimentos_bebidas\"].fillna(method=\"bfill\")\n",
        "# Ahora esta instrucción nos permite recorrer los valores hacia atras, proceso inverso al que hace el anterior"
      ],
      "metadata": {
        "id": "L008hrSKRtjW"
      },
      "execution_count": 48,
      "outputs": []
    },
    {
      "cell_type": "code",
      "source": [
        "df1[\"bebidas\"]=df1[\"bebidas\"].fillna(method=\"bfill\")\n",
        "# Hacemos para este proceso el mismo que el anterior ya que varian demasiado los valores como para hacer un promedio, por eso tome esa decisión"
      ],
      "metadata": {
        "id": "ZXne41IiTOh6"
      },
      "execution_count": 54,
      "outputs": []
    },
    {
      "cell_type": "code",
      "source": [
        "df1[\"almacen\"]=df1[\"almacen\"].fillna(round(df[\"almacen\"].mean()))"
      ],
      "metadata": {
        "id": "IuS8J4OEW0So"
      },
      "execution_count": 65,
      "outputs": []
    },
    {
      "cell_type": "code",
      "source": [
        "df1[\"panaderia\"]=df1[\"panaderia\"].fillna(method=\"bfill\")"
      ],
      "metadata": {
        "id": "NFo0vCukZgTw"
      },
      "execution_count": 67,
      "outputs": []
    },
    {
      "cell_type": "code",
      "source": [
        "df1[\"lacteos\"]=df1[\"lacteos\"].fillna(round(df[\"lacteos\"].median()))"
      ],
      "metadata": {
        "id": "yMlQohC0ZvKC"
      },
      "execution_count": 73,
      "outputs": []
    },
    {
      "cell_type": "code",
      "source": [
        "df1[\"carnes\"]=df1[\"carnes\"].fillna(method=\"ffill\")"
      ],
      "metadata": {
        "id": "iiDlv9CTarGE"
      },
      "execution_count": 75,
      "outputs": []
    },
    {
      "cell_type": "code",
      "source": [
        "df1[\"verduleria_fruteria\"]=df1[\"verduleria_fruteria\"].fillna(method=\"bfill\")"
      ],
      "metadata": {
        "id": "1dIKuMa4bTW-"
      },
      "execution_count": 78,
      "outputs": []
    },
    {
      "cell_type": "code",
      "source": [
        "df1[\"alimentos_preparados_rotiseria\"]=df1[\"alimentos_preparados_rotiseria\"].fillna(method=\"ffill\")"
      ],
      "metadata": {
        "id": "FAG0njArbj1D"
      },
      "execution_count": 81,
      "outputs": []
    },
    {
      "cell_type": "code",
      "source": [
        "df1[\"indumentaria_calzado_textiles_hogar\"]=df1[\"indumentaria_calzado_textiles_hogar\"].fillna(500500)"
      ],
      "metadata": {
        "id": "UEJs2O1rcTbU"
      },
      "execution_count": 84,
      "outputs": []
    },
    {
      "cell_type": "code",
      "source": [
        "df1[\"electronicos_articulos_hogar\"]=df1[\"electronicos_articulos_hogar\"].fillna(round(df[\"electronicos_articulos_hogar\"].mean()))"
      ],
      "metadata": {
        "id": "es1B0T_CdDxb"
      },
      "execution_count": 87,
      "outputs": []
    },
    {
      "cell_type": "code",
      "source": [
        "df1[\"otros\"]=df1[\"otros\"].fillna(round(df[\"otros\"].median()))"
      ],
      "metadata": {
        "id": "VY-jNuajdOtp"
      },
      "execution_count": 90,
      "outputs": []
    },
    {
      "cell_type": "markdown",
      "source": [
        "Las celdas de los valores nulos explicadas son para demostrar el dominio y entendimiento del tema, no hay ninguna fila en la que se haya aplicado el metodo de eliminación pues no es correcto ya que la proporción de la base de datos y los valores nulos no nos dejaría hacer un buen analisis si los eliminaramos. Los criterios para limpiar las demás columnas fueron similares para las ultimas y para algunas incluso fue al azar pues el número de datos nulos no significaba gran cosa dentro de los 60+ datos."
      ],
      "metadata": {
        "id": "lj-u6ZwwddhD"
      }
    },
    {
      "cell_type": "code",
      "source": [
        "#Identificar valores nulos por columna\n",
        "valores_nulos=df1.isnull().sum()\n",
        "valores_nulos"
      ],
      "metadata": {
        "colab": {
          "base_uri": "https://localhost:8080/"
        },
        "id": "ugaM7be_B3Xu",
        "outputId": "79fc61e3-fbf6-4cc4-a6b5-21ebce90a69a"
      },
      "execution_count": 91,
      "outputs": [
        {
          "output_type": "execute_result",
          "data": {
            "text/plain": [
              "indice_tiempo                          0\n",
              "ventas_precios_corrientes              0\n",
              "ventas_precios_constantes              0\n",
              "ventas_totales_canal_venta             0\n",
              "salon_ventas                           0\n",
              "canales_on_line                        0\n",
              "ventas_totales_medio_pago              0\n",
              "efectivo                               0\n",
              "tarjetas_debito                        0\n",
              "tarjetas_credito                       0\n",
              "otros_medios                           0\n",
              "ventas_totales_grupo_articulos         0\n",
              "subtotal_ventas_alimentos_bebidas      0\n",
              "bebidas                                0\n",
              "almacen                                0\n",
              "panaderia                              0\n",
              "lacteos                                0\n",
              "carnes                                 0\n",
              "verduleria_fruteria                    0\n",
              "alimentos_preparados_rotiseria         0\n",
              "articulos_limpieza_perfumeria          0\n",
              "indumentaria_calzado_textiles_hogar    0\n",
              "electronicos_articulos_hogar           0\n",
              "otros                                  0\n",
              "dtype: int64"
            ]
          },
          "metadata": {},
          "execution_count": 91
        }
      ]
    },
    {
      "cell_type": "code",
      "source": [
        "#Convertir archivo filtrado a CSV \n",
        "df1.to_csv(\"Ventas_totales_sin_nulos.csv\")"
      ],
      "metadata": {
        "id": "PnrUM99Tekjg"
      },
      "execution_count": 93,
      "outputs": []
    },
    {
      "cell_type": "code",
      "source": [
        "#Descargar archivo filtrado en csv\n",
        "from google.colab import files\n",
        "files.download(\"Ventas_totales_sin_nulos.csv\")"
      ],
      "metadata": {
        "id": "ZWDUZRIjfsg7",
        "outputId": "87988e58-dcca-437d-932b-00baf0a4fb8c",
        "colab": {
          "base_uri": "https://localhost:8080/",
          "height": 17
        }
      },
      "execution_count": 94,
      "outputs": [
        {
          "output_type": "display_data",
          "data": {
            "text/plain": [
              "<IPython.core.display.Javascript object>"
            ],
            "application/javascript": [
              "\n",
              "    async function download(id, filename, size) {\n",
              "      if (!google.colab.kernel.accessAllowed) {\n",
              "        return;\n",
              "      }\n",
              "      const div = document.createElement('div');\n",
              "      const label = document.createElement('label');\n",
              "      label.textContent = `Downloading \"${filename}\": `;\n",
              "      div.appendChild(label);\n",
              "      const progress = document.createElement('progress');\n",
              "      progress.max = size;\n",
              "      div.appendChild(progress);\n",
              "      document.body.appendChild(div);\n",
              "\n",
              "      const buffers = [];\n",
              "      let downloaded = 0;\n",
              "\n",
              "      const channel = await google.colab.kernel.comms.open(id);\n",
              "      // Send a message to notify the kernel that we're ready.\n",
              "      channel.send({})\n",
              "\n",
              "      for await (const message of channel.messages) {\n",
              "        // Send a message to notify the kernel that we're ready.\n",
              "        channel.send({})\n",
              "        if (message.buffers) {\n",
              "          for (const buffer of message.buffers) {\n",
              "            buffers.push(buffer);\n",
              "            downloaded += buffer.byteLength;\n",
              "            progress.value = downloaded;\n",
              "          }\n",
              "        }\n",
              "      }\n",
              "      const blob = new Blob(buffers, {type: 'application/binary'});\n",
              "      const a = document.createElement('a');\n",
              "      a.href = window.URL.createObjectURL(blob);\n",
              "      a.download = filename;\n",
              "      div.appendChild(a);\n",
              "      a.click();\n",
              "      div.remove();\n",
              "    }\n",
              "  "
            ]
          },
          "metadata": {}
        },
        {
          "output_type": "display_data",
          "data": {
            "text/plain": [
              "<IPython.core.display.Javascript object>"
            ],
            "application/javascript": [
              "download(\"download_4077e114-3fbc-4ed5-a3a9-606b26149ef3\", \"Ventas_totales_sin_nulos.csv\", 18592)"
            ]
          },
          "metadata": {}
        }
      ]
    }
  ]
}